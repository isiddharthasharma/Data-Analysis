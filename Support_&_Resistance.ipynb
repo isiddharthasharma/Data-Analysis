{
  "nbformat": 4,
  "nbformat_minor": 0,
  "metadata": {
    "colab": {
      "name": "Support & Resistance.ipynb",
      "provenance": [],
      "collapsed_sections": [],
      "authorship_tag": "ABX9TyO7xYoqfcAIxg5DZb4aX8qK",
      "include_colab_link": true
    },
    "kernelspec": {
      "name": "python3",
      "display_name": "Python 3"
    },
    "language_info": {
      "name": "python"
    }
  },
  "cells": [
    {
      "cell_type": "markdown",
      "metadata": {
        "id": "view-in-github",
        "colab_type": "text"
      },
      "source": [
        "<a href=\"https://colab.research.google.com/github/isiddharthasharma/Trading/blob/main/Support_%26_Resistance.ipynb\" target=\"_parent\"><img src=\"https://colab.research.google.com/assets/colab-badge.svg\" alt=\"Open In Colab\"/></a>"
      ]
    },
    {
      "cell_type": "markdown",
      "metadata": {
        "id": "hLUAB7O3Yf6w"
      },
      "source": [
        "**Description:** This program makes support and resistance line of a stock by taking data from past weeks along with trend lines<br>\n",
        "**Version:** 0.4.5 | Changelog: https://isiddharthasharma.blogspot.com/2021/06/srmodel.html<br>\n",
        "**Author & Editor:** Siddharth Sharma<br>\n"
      ]
    },
    {
      "cell_type": "code",
      "metadata": {
        "colab": {
          "base_uri": "https://localhost:8080/"
        },
        "id": "v4Oi3udowNfT",
        "outputId": "e812a086-9bc4-4fa5-a550-65af5570a728"
      },
      "source": [
        "! pip install yfinance"
      ],
      "execution_count": null,
      "outputs": [
        {
          "output_type": "stream",
          "text": [
            "Collecting yfinance\n",
            "  Downloading https://files.pythonhosted.org/packages/a7/ee/315752b9ef281ba83c62aa7ec2e2074f85223da6e7e74efb4d3e11c0f510/yfinance-0.1.59.tar.gz\n",
            "Requirement already satisfied: pandas>=0.24 in /usr/local/lib/python3.7/dist-packages (from yfinance) (1.1.5)\n",
            "Requirement already satisfied: numpy>=1.15 in /usr/local/lib/python3.7/dist-packages (from yfinance) (1.19.5)\n",
            "Requirement already satisfied: requests>=2.20 in /usr/local/lib/python3.7/dist-packages (from yfinance) (2.23.0)\n",
            "Requirement already satisfied: multitasking>=0.0.7 in /usr/local/lib/python3.7/dist-packages (from yfinance) (0.0.9)\n",
            "Collecting lxml>=4.5.1\n",
            "\u001b[?25l  Downloading https://files.pythonhosted.org/packages/30/c0/d0526314971fc661b083ab135747dc68446a3022686da8c16d25fcf6ef07/lxml-4.6.3-cp37-cp37m-manylinux2014_x86_64.whl (6.3MB)\n",
            "\u001b[K     |████████████████████████████████| 6.3MB 11.0MB/s \n",
            "\u001b[?25hRequirement already satisfied: pytz>=2017.2 in /usr/local/lib/python3.7/dist-packages (from pandas>=0.24->yfinance) (2018.9)\n",
            "Requirement already satisfied: python-dateutil>=2.7.3 in /usr/local/lib/python3.7/dist-packages (from pandas>=0.24->yfinance) (2.8.1)\n",
            "Requirement already satisfied: idna<3,>=2.5 in /usr/local/lib/python3.7/dist-packages (from requests>=2.20->yfinance) (2.10)\n",
            "Requirement already satisfied: certifi>=2017.4.17 in /usr/local/lib/python3.7/dist-packages (from requests>=2.20->yfinance) (2021.5.30)\n",
            "Requirement already satisfied: urllib3!=1.25.0,!=1.25.1,<1.26,>=1.21.1 in /usr/local/lib/python3.7/dist-packages (from requests>=2.20->yfinance) (1.24.3)\n",
            "Requirement already satisfied: chardet<4,>=3.0.2 in /usr/local/lib/python3.7/dist-packages (from requests>=2.20->yfinance) (3.0.4)\n",
            "Requirement already satisfied: six>=1.5 in /usr/local/lib/python3.7/dist-packages (from python-dateutil>=2.7.3->pandas>=0.24->yfinance) (1.15.0)\n",
            "Building wheels for collected packages: yfinance\n",
            "  Building wheel for yfinance (setup.py) ... \u001b[?25l\u001b[?25hdone\n",
            "  Created wheel for yfinance: filename=yfinance-0.1.59-py2.py3-none-any.whl size=23455 sha256=8afc5b31e122b2eab40835b1638561fa12aa2aeb7a0386dfa799fa6f5612c34f\n",
            "  Stored in directory: /root/.cache/pip/wheels/f8/2a/0f/4b5a86e1d52e451757eb6bc17fd899629f0925c777741b6d04\n",
            "Successfully built yfinance\n",
            "Installing collected packages: lxml, yfinance\n",
            "  Found existing installation: lxml 4.2.6\n",
            "    Uninstalling lxml-4.2.6:\n",
            "      Successfully uninstalled lxml-4.2.6\n",
            "Successfully installed lxml-4.6.3 yfinance-0.1.59\n"
          ],
          "name": "stdout"
        }
      ]
    },
    {
      "cell_type": "code",
      "metadata": {
        "colab": {
          "base_uri": "https://localhost:8080/"
        },
        "id": "6Kj98amPRKxh",
        "outputId": "ed20ab91-04ea-45a0-d22c-8f28090f4bd4"
      },
      "source": [
        "print(\"> Status: Importing modules from database...\")\n",
        "import yfinance as yf\n",
        "import pandas as pd\n",
        "import matplotlib.pyplot as plt\n",
        "import matplotlib.transforms as transforms\n",
        "import matplotlib.dates as mdates\n",
        "from pandas_datareader import data\n",
        "import pandas_datareader.data as web\n",
        "from matplotlib.dates import DateFormatter\n",
        "from datetime import date\n",
        "print(\"> Status: Imported Success!\")"
      ],
      "execution_count": null,
      "outputs": [
        {
          "output_type": "stream",
          "text": [
            "> Status: Importing modules from database...\n",
            "> Status: Imported Success!\n"
          ],
          "name": "stdout"
        }
      ]
    },
    {
      "cell_type": "code",
      "metadata": {
        "id": "HSOfIiP5RN5c"
      },
      "source": [
        "tickersymbol = input(\"Write a commodity symbol:\\n\")\n",
        "if(tickersymbol.isupper()):\n",
        "    print(\"\\n> Status: Symbol registered successfully\\n> Symbol:\", tickersymbol)\n",
        "if(tickersymbol.islower()):\n",
        "    print(\"\\n> Status: Converting symbol into upper case...\")\n",
        "    tickersymbol = tickersymbol.upper()\n",
        "    print(\"> Status: Symbol registered successfully\\n> Symbol:\", tickersymbol)"
      ],
      "execution_count": null,
      "outputs": []
    },
    {
      "cell_type": "code",
      "metadata": {
        "id": "Ob6zasrdROCc"
      },
      "source": [
        "class Database():\n",
        "  def __init__(self, ticker, days):\n",
        "    self.ticker = ticker\n",
        "#    data = yf.download(ticker, period = '1y', interval = '60m', rounding= True)\n",
        "    data = yf.download(ticker, start=\"2020-01-01\", end=date.today()) #YYYY-MM-DD\n",
        "    self.df = pd.DataFrame(data)\n",
        "    pd.set_option('display.max_columns', None)\n",
        "    self.df = self.df[-days:]\n",
        "    \n",
        "  def quote(self):\n",
        "    return self.df\n",
        "\n",
        "print(\"> Status: Connecting to Yahoo Finance database...\\n> Status: Connected!\\n> Status: Fetching Data...\")\n",
        "db = Database(tickersymbol, 30) # days is amount of days taken from df\n",
        "df = db.quote()\n",
        "print(\"> Status: Loading data of\", tickersymbol)\n",
        "#print(df.tail()) #debug \n",
        "print(\"> Status: Data Loaded Successfully!\\n> Status: Processing Data...\")\n",
        "\n",
        "# Step 4: Adding trend resistance & support lines\n",
        "pivot_high_1=df['High'][-7:-1].max() # -21:-1\n",
        "pivot_high_2=df['High'][-14:-8].max() # -55:-22\n",
        "pivot_low_1=df['Low'][-7:-1].min()\n",
        "pivot_low_2=df['Low'][-14:-8].min()\n",
        "\n",
        "H=[df['High'][-7:-1].idxmax(), pivot_high_1]\n",
        "H1=[df['High'][-14:-8].idxmax(), pivot_high_2]\n",
        "\n",
        "L=[df['Low'][-60:-1].idxmin(), pivot_low_1]\n",
        "L1=[df['Low'][-55:-22].idxmin(), pivot_low_2]\n",
        "\n",
        "x1_high_values = [H[0], H1[0]]\n",
        "y1_high_values = [H[1], H1[1]]\n",
        "\n",
        "x1_low_values = [L[0], L1[0]]\n",
        "y1_low_values = [L[1], L1[1]]\n",
        "print(\"> Status: Data Processing is completed!\")\n",
        "\n",
        "plt.rcParams.update({'font.size': 11})\n",
        "fig, ax1 = plt.subplots(figsize=(17,9))\n",
        "\n",
        "ax1.set_ylabel('Price (INR)')\n",
        "ax1.set_xlabel('\\n\\nDate (DD/MM/YYYY)\\nTime (H/M/S)')\n",
        "ax1.set_title(db.ticker)\n",
        "ax1.plot('Adj Close', data=df, label='Close Price', linewidth=0.5, color='blue')\n",
        "\n",
        "ax1.plot(x1_high_values, y1_high_values, color='g', linestyle='--', linewidth=1, label='Resistance Trend Line')\n",
        "ax1.plot(x1_low_values, y1_low_values, color='r', linestyle='--', linewidth=1, label='Support Trend Line')\n",
        "\n",
        "ax1.axhline(y=pivot_high_1, color='g', linewidth=3, label='Resistance Level', alpha=0.2)\n",
        "ax1.axhline(y=pivot_low_1, color='r', linewidth=3, label='Support Level', alpha=0.2)\n",
        "trans = transforms.blended_transform_factory(ax1.get_yticklabels()[0].get_transform(), ax1.transData)\n",
        "ax1.text(0,pivot_high_1, \"{:.2f}\".format(pivot_high_1), color=\"g\", transform=trans,ha=\"right\", va=\"center\")\n",
        "ax1.text(0,pivot_low_1, \"{:.2f}\".format(pivot_low_1), color=\"r\", transform=trans,ha=\"right\", va=\"center\")\n",
        "\n",
        "date_form = DateFormatter(\"%d-%m-%Y \\n%H:%M:%S\")\n",
        "ax1.xaxis.set_major_formatter(date_form)\n",
        "print(\"> Status: Plotting data on chart\")\n",
        "ax1.legend()\n",
        "ax1.grid()\n",
        "plt.show()"
      ],
      "execution_count": null,
      "outputs": []
    },
    {
      "cell_type": "markdown",
      "metadata": {
        "id": "_JCusz-FRj_D"
      },
      "source": [
        "**Legend**\n",
        "\n",
        "\n",
        "---\n",
        "**Close Price:** Stock Price (LTP)<BR>\n",
        "**Resistance Trend Line:**Up Trend<BR>\n",
        "**Support Trend Line:** Down Trend<BR>\n",
        "**Resistance Level:** Resistance in a sense is the opposite of support. Resistance is a price level on a chart where historically the stock has had difficulty rising above. This price level acts as a ceiling and prevents the stock from rising any further.<BR>\n",
        "**Support Level:** Support is a price level on a stock chart where historically the stock has had difficulty falling below. The price level acts as a floor and prevents the price of the stock from falling any further.\n",
        "<br>\n",
        ">**A level of Support is always found BELOW prices.**"
      ]
    },
    {
      "cell_type": "markdown",
      "metadata": {
        "id": "TsEyUWlzRn1f"
      },
      "source": [
        "bruh"
      ]
    }
  ]
}