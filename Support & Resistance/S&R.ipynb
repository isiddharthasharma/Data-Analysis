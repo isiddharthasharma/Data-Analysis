print("> Status: Importing modules from database...")
import pandas as pd
import yfinance as yf
import datetime as dt
import matplotlib.pyplot as plt
import matplotlib.dates as mdates
import pandas_datareader.data as web
import matplotlib.transforms as transforms

from pandas_datareader import data
from matplotlib.dates import DateFormatter

print("> Status: Imported Success!")

tickersymbol = input("Write a commodity symbol:\n")
if(tickersymbol.isupper()):
    print("\nStatus: Symbol registered successfully\n> Symbol:", tickersymbol)
if(tickersymbol.islower()):
    print("\n> Converting symbol into upper case...")
    tickersymbol = tickersymbol.upper()
    print("> Status: Symbol registered successfully\n> Symbol:", tickersymbol)
start = dt.datetime(2020,1,1) #YYYY, M, D
end = dt.datetime.now()

class Database():
  def __init__(self, ticker, days):
    self.ticker = ticker
    #data = yf.download(ticker, period = '1y', interval = '60m', rounding= True)
    data = yf.download(ticker, start, end, rounding = True) #YYYY-MM-DD
    #data = web.DataReader([tickersymbol], 'yahoo', start, end)
    self.df = pd.DataFrame(data)
    pd.set_option('display.max_columns', None)
    self.df = self.df[-days:]
    
  def quote(self):
    return self.df

print("> Status: Connecting to Yahoo Finance database...\n> Status: Connected!\n> Status: Fetching Data...")
db = Database(tickersymbol, 15) # days is amount of days taken from df
df = db.quote()
print("> Status: Loading data of", tickersymbol)
print(df.tail()) #debug 
print("> Status: Data Loaded Successfully!\n> Status: Processing Data...")

# Step 4: Adding trend resistance & support lines
pivot_high_1=df['High'][-7:-1].max() # -21:-1
pivot_high_2=df['High'][-14:-8].max() # -55:-22
pivot_low_1=df['Low'][-7:-1].min()
pivot_low_2=df['Low'][-14:-8].min()

H=[df['High'][-7:-1].idxmax(), pivot_high_1]
H1=[df['High'][-14:-8].idxmax(), pivot_high_2]

L=[df['Low'][-7:-1].idxmin(), pivot_low_1]
L1=[df['Low'][-14:-8].idxmin(), pivot_low_2]

x1_high_values = [H[0], H1[0]]
y1_high_values = [H[1], H1[1]]

x1_low_values = [L[0], L1[0]]
y1_low_values = [L[1], L1[1]]
print("> Status: Data Processing is completed!")

plt.rcParams.update({'font.size': 11})
fig, ax1 = plt.subplots(figsize=(17,9))

ax1.set_ylabel('Price (INR)')
ax1.set_xlabel('\n\nDate (DD/MM/YYYY)\nTime (H/M/S)')
ax1.set_title(db.ticker)
ax1.plot('Adj Close', data=df, label='Close Price', linewidth=0.5, color='blue')

ax1.plot(x1_high_values, y1_high_values, color='g', linestyle='--', linewidth=1, label='Resistance Trend Line')
ax1.plot(x1_low_values, y1_low_values, color='r', linestyle='--', linewidth=1, label='Support Trend Line')

ax1.axhline(y=pivot_high_1, color='g', linewidth=3, label='Resistance Level', alpha=0.2)
ax1.axhline(y=pivot_low_1, color='r', linewidth=3, label='Support Level', alpha=0.2)
trans = transforms.blended_transform_factory(ax1.get_yticklabels()[0].get_transform(), ax1.transData)
ax1.text(0,pivot_high_1, "{:.2f}".format(pivot_high_1), color="g", fontweight='bold', transform=trans,ha="right", va="center")
ax1.text(0,pivot_low_1, "{:.2f}".format(pivot_low_1), color="r", fontweight='bold', transform=trans,ha="right", va="center")

date_form = DateFormatter("%d-%m-%Y \n%H:%M:%S")
ax1.xaxis.set_major_formatter(date_form)
print("> Status: Plotting data on chart")

ax1.legend()
ax1.grid()
plt.show()
